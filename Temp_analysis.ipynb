{
 "cells": [
  {
   "cell_type": "markdown",
   "metadata": {},
   "source": [
    "# Final Project: Temperature Analysis of Major Cities and Countries Over Years\n",
    "## Name: Xuechun Sun (xs2254) - Work Solo\n",
    "- Data Source: Kaggle Website (https://www.kaggle.com/berkeleyearth/climate-change-earth-surface-temperature-data)\n",
    "    - Dataset Descriptions:\n",
    "        1. GlobalLandTemperaturesByMajorCity.csv\n",
    "            - Land Temperature data of global major city from beginning year(1700) to end year(2012)\n",
    "        2. GlobalLandTemperaturesByCountry.csv\n",
    "            - Land Temperature data of each Country from beginning year(1700) to end year(2012)\n",
    "            \n",
    "- Project Description and Outline of Structure of the Code\n",
    "    - Part 1\n",
    "        -  Data loading and Data cleaning\n",
    "    - Part 2\n",
    "        -  Data visualization using interative plot tool: Plotly\n",
    "        -  Temperature Time Series plot for Five Main Countries: United States, United Kingdom, Australia, China, India. Time line is from 1840 to 2012.\n",
    "        -  Top Ten Major Citys in Temperature Growth Rate and their Temperature of both beginning and end years.\n",
    "    - Part 3 \n",
    "        - Run Principal Component Analysis (PCA) for global major cities\n",
    "        - Visualize PCA plot for 1st and 2nd Principal Components\n",
    "    - Part 4\n",
    "        - K-means Clustering\n",
    "        - Visualize cluster group plot based on PCA plot\n",
    "        \n",
    "- Instruction of running codes\n",
    "    - Install plotly package in your PC(in your terminal, enter: conda install -c https://conda.anaconda.org/plotly plotly)\n",
    "    - Get API key in plotly (https://plot.ly/python/getting-started/)\n",
    "    - Change the path directory of data files while loading csv files\n",
    "    - Run codes cell by cell\n",
    "    \n",
    "- Dependencies\n",
    "    - data files\n",
    "        - GlobalLandTemperaturesByMajorCity.csv\n",
    "        - GlobalLandTemperaturesByCountry.csv\n",
    "    - modules\n",
    "        - numpy, pandas, plotly.plotly, plotly.graph_objs, plotly.tools, sklearn.decomposition, cluster\n",
    "\n",
    "- Any problems encountered\n",
    "    - No\n",
    "    \n",
    "- Evaluation of Python for my task\n",
    "    - Data processing and visualization part is straightforward\n",
    "    - Model Processing part is not satisfied, because python seems having less function for models. In the model part, I think R might be better because R have various packages of models for users to choose in order to realize different functions and needs.\n"
   ]
  },
  {
   "cell_type": "markdown",
   "metadata": {
    "collapsed": true
   },
   "source": [
    "# part 1\n",
    "- Loading the data and filling the gaps\n",
    "- data cleaning and processing"
   ]
  },
  {
   "cell_type": "code",
   "execution_count": 1,
   "metadata": {
    "collapsed": false
   },
   "outputs": [
    {
     "data": {
      "text/html": [
       "<div>\n",
       "<table border=\"1\" class=\"dataframe\">\n",
       "  <thead>\n",
       "    <tr style=\"text-align: right;\">\n",
       "      <th></th>\n",
       "      <th>AverageTemperature</th>\n",
       "      <th>AverageTemperatureUncertainty</th>\n",
       "      <th>Country</th>\n",
       "    </tr>\n",
       "    <tr>\n",
       "      <th>dt</th>\n",
       "      <th></th>\n",
       "      <th></th>\n",
       "      <th></th>\n",
       "    </tr>\n",
       "  </thead>\n",
       "  <tbody>\n",
       "    <tr>\n",
       "      <th>1743-11-01</th>\n",
       "      <td>4.384</td>\n",
       "      <td>2.294</td>\n",
       "      <td>Åland</td>\n",
       "    </tr>\n",
       "    <tr>\n",
       "      <th>1743-12-01</th>\n",
       "      <td>4.384</td>\n",
       "      <td>2.294</td>\n",
       "      <td>Åland</td>\n",
       "    </tr>\n",
       "    <tr>\n",
       "      <th>1744-01-01</th>\n",
       "      <td>4.384</td>\n",
       "      <td>2.294</td>\n",
       "      <td>Åland</td>\n",
       "    </tr>\n",
       "    <tr>\n",
       "      <th>1744-02-01</th>\n",
       "      <td>4.384</td>\n",
       "      <td>2.294</td>\n",
       "      <td>Åland</td>\n",
       "    </tr>\n",
       "    <tr>\n",
       "      <th>1744-03-01</th>\n",
       "      <td>4.384</td>\n",
       "      <td>2.294</td>\n",
       "      <td>Åland</td>\n",
       "    </tr>\n",
       "  </tbody>\n",
       "</table>\n",
       "</div>"
      ],
      "text/plain": [
       "            AverageTemperature  AverageTemperatureUncertainty Country\n",
       "dt                                                                   \n",
       "1743-11-01               4.384                          2.294   Åland\n",
       "1743-12-01               4.384                          2.294   Åland\n",
       "1744-01-01               4.384                          2.294   Åland\n",
       "1744-02-01               4.384                          2.294   Åland\n",
       "1744-03-01               4.384                          2.294   Åland"
      ]
     },
     "execution_count": 1,
     "metadata": {},
     "output_type": "execute_result"
    }
   ],
   "source": [
    "import numpy as np\n",
    "import pandas as pd\n",
    "import matplotlib.pyplot as plt\n",
    "\n",
    "#Change the path directory of data files while loading csv files\n",
    "global_city_temp = pd.read_csv('/Users/sun93/Documents/programming_lang_python/project/GlobalLandTemperatures/GlobalLandTemperaturesByMajorCity.csv',\n",
    "                                infer_datetime_format=True, index_col='dt',parse_dates = True)\n",
    "country_temp = pd.read_csv('/Users/sun93/Documents/programming_lang_python/project/GlobalLandTemperatures/GlobalLandTemperaturesByCountry.csv',\n",
    "                                infer_datetime_format=True, index_col='dt',parse_dates =['dt'])\n",
    "                               \n",
    "global_city_temp = global_city_temp.fillna(method = 'ffill')\n",
    "country_temp = country_temp.fillna(method = 'ffill')\n",
    "\n",
    "country_temp.head()"
   ]
  },
  {
   "cell_type": "code",
   "execution_count": 2,
   "metadata": {
    "collapsed": false
   },
   "outputs": [
    {
     "data": {
      "text/html": [
       "<div>\n",
       "<table border=\"1\" class=\"dataframe\">\n",
       "  <thead>\n",
       "    <tr style=\"text-align: right;\">\n",
       "      <th></th>\n",
       "      <th>AverageTemperature</th>\n",
       "      <th>AverageTemperatureUncertainty</th>\n",
       "      <th>City</th>\n",
       "      <th>Country</th>\n",
       "      <th>Latitude</th>\n",
       "      <th>Longitude</th>\n",
       "    </tr>\n",
       "    <tr>\n",
       "      <th>dt</th>\n",
       "      <th></th>\n",
       "      <th></th>\n",
       "      <th></th>\n",
       "      <th></th>\n",
       "      <th></th>\n",
       "      <th></th>\n",
       "    </tr>\n",
       "  </thead>\n",
       "  <tbody>\n",
       "    <tr>\n",
       "      <th>1849-01-01</th>\n",
       "      <td>26.704</td>\n",
       "      <td>1.435</td>\n",
       "      <td>Abidjan</td>\n",
       "      <td>Côte D'Ivoire</td>\n",
       "      <td>5.63N</td>\n",
       "      <td>3.23W</td>\n",
       "    </tr>\n",
       "    <tr>\n",
       "      <th>1849-02-01</th>\n",
       "      <td>27.434</td>\n",
       "      <td>1.362</td>\n",
       "      <td>Abidjan</td>\n",
       "      <td>Côte D'Ivoire</td>\n",
       "      <td>5.63N</td>\n",
       "      <td>3.23W</td>\n",
       "    </tr>\n",
       "    <tr>\n",
       "      <th>1849-03-01</th>\n",
       "      <td>28.101</td>\n",
       "      <td>1.612</td>\n",
       "      <td>Abidjan</td>\n",
       "      <td>Côte D'Ivoire</td>\n",
       "      <td>5.63N</td>\n",
       "      <td>3.23W</td>\n",
       "    </tr>\n",
       "    <tr>\n",
       "      <th>1849-04-01</th>\n",
       "      <td>26.140</td>\n",
       "      <td>1.387</td>\n",
       "      <td>Abidjan</td>\n",
       "      <td>Côte D'Ivoire</td>\n",
       "      <td>5.63N</td>\n",
       "      <td>3.23W</td>\n",
       "    </tr>\n",
       "    <tr>\n",
       "      <th>1849-05-01</th>\n",
       "      <td>25.427</td>\n",
       "      <td>1.200</td>\n",
       "      <td>Abidjan</td>\n",
       "      <td>Côte D'Ivoire</td>\n",
       "      <td>5.63N</td>\n",
       "      <td>3.23W</td>\n",
       "    </tr>\n",
       "  </tbody>\n",
       "</table>\n",
       "</div>"
      ],
      "text/plain": [
       "            AverageTemperature  AverageTemperatureUncertainty     City  \\\n",
       "dt                                                                       \n",
       "1849-01-01              26.704                          1.435  Abidjan   \n",
       "1849-02-01              27.434                          1.362  Abidjan   \n",
       "1849-03-01              28.101                          1.612  Abidjan   \n",
       "1849-04-01              26.140                          1.387  Abidjan   \n",
       "1849-05-01              25.427                          1.200  Abidjan   \n",
       "\n",
       "                  Country Latitude Longitude  \n",
       "dt                                            \n",
       "1849-01-01  Côte D'Ivoire    5.63N     3.23W  \n",
       "1849-02-01  Côte D'Ivoire    5.63N     3.23W  \n",
       "1849-03-01  Côte D'Ivoire    5.63N     3.23W  \n",
       "1849-04-01  Côte D'Ivoire    5.63N     3.23W  \n",
       "1849-05-01  Côte D'Ivoire    5.63N     3.23W  "
      ]
     },
     "execution_count": 2,
     "metadata": {},
     "output_type": "execute_result"
    }
   ],
   "source": [
    "global_city_temp.head()"
   ]
  },
  {
   "cell_type": "markdown",
   "metadata": {},
   "source": [
    "# Part 2\n",
    "## Data visualization\n",
    "(for install Plotly, in mac terminal, enter: conda install -c https://conda.anaconda.org/plotly plotly)\n",
    "- Time Series plot of five main countries: United States, China, India, Australia, United Kingdom"
   ]
  },
  {
   "cell_type": "code",
   "execution_count": 3,
   "metadata": {
    "collapsed": false
   },
   "outputs": [
    {
     "data": {
      "text/html": [
       "<iframe id=\"igraph\" scrolling=\"no\" style=\"border:none;\" seamless=\"seamless\" src=\"https://plot.ly/~XuechunSun/48.embed\" height=\"525px\" width=\"100%\"></iframe>"
      ],
      "text/plain": [
       "<plotly.tools.PlotlyDisplay object>"
      ]
     },
     "execution_count": 3,
     "metadata": {},
     "output_type": "execute_result"
    }
   ],
   "source": [
    "import plotly.plotly as py\n",
    "import plotly.graph_objs as go\n",
    "import plotly.tools as tls\n",
    "\n",
    "#change to your username and api_key\n",
    "tls.set_credentials_file(username='XuechunSun', api_key='bf4ku25v0j')\n",
    "\n",
    "# Create traces\n",
    "#temp_Year = country_temp.groupby(country_temp.index.year)[country_temp.Country == 'United States']['AverageTemperature'].mean()\n",
    "temp_us = country_temp[country_temp['Country'] == 'United States']\n",
    "temp_us = temp_us[temp_us.index.year >= 1840]\n",
    "temp_us_Year = temp_us.groupby(temp_us.index.year)['AverageTemperature'].mean()\n",
    "\n",
    "temp_ch = country_temp[country_temp['Country'] == 'China']\n",
    "temp_ch = temp_ch[temp_ch.index.year >= 1840]\n",
    "temp_ch_Year = temp_ch.groupby(temp_ch.index.year)['AverageTemperature'].mean()\n",
    "\n",
    "temp_india = country_temp[country_temp['Country'] == 'India']\n",
    "temp_india = temp_india[temp_india.index.year >= 1840]\n",
    "temp_india_Year = temp_india.groupby(temp_india.index.year)['AverageTemperature'].mean()\n",
    "\n",
    "temp_aus = country_temp[country_temp['Country'] == 'Australia']\n",
    "temp_aus_Year = temp_aus.groupby(temp_aus.index.year)['AverageTemperature'].mean()\n",
    "\n",
    "temp_uk = country_temp[country_temp['Country'] == 'United Kingdom']\n",
    "temp_uk = temp_uk[temp_uk.index.year >= 1840]\n",
    "temp_uk_Year = temp_uk.groupby(temp_uk.index.year)['AverageTemperature'].mean()\n",
    "\n",
    "trace0 = go.Scatter(\n",
    "    x = temp_us_Year.index.tolist(),\n",
    "    y = temp_us_Year.tolist(),\n",
    "    mode = 'lines',\n",
    "    name = 'United Stated'\n",
    ")\n",
    "\n",
    "trace1 = go.Scatter(\n",
    "    x = temp_ch_Year.index.tolist(),\n",
    "    y = temp_ch_Year.tolist(),\n",
    "    mode = 'lines',\n",
    "    name = 'China'\n",
    ")\n",
    "\n",
    "trace2 = go.Scatter(\n",
    "    x = temp_india_Year.index.tolist(),\n",
    "    y = temp_india_Year.tolist(),\n",
    "    mode = 'lines',\n",
    "    name = 'India'\n",
    ")\n",
    "\n",
    "trace3 = go.Scatter(\n",
    "    x = temp_aus_Year.index.tolist(),\n",
    "    y = temp_aus_Year.tolist(),\n",
    "    mode = 'lines',\n",
    "    name = 'Australia'\n",
    ")\n",
    "\n",
    "trace4 = go.Scatter(\n",
    "    x = temp_uk_Year.index.tolist(),\n",
    "    y = temp_uk_Year.tolist(),\n",
    "    mode = 'lines',\n",
    "    name = 'United Kingdom'\n",
    ")\n",
    "data = [trace0, trace1, trace2, trace3, trace4]\n",
    "layout = go.Layout(\n",
    "    title='Temperature Time Series plot for Five Main Countries',\n",
    "    legend=dict(\n",
    "        y=0.5,\n",
    "        traceorder='reversed',\n",
    "        font=dict(\n",
    "            size=16\n",
    "        )\n",
    "    ),\n",
    "    xaxis=dict(\n",
    "        title='Time',\n",
    "        titlefont=dict(\n",
    "            size=18\n",
    "        )\n",
    "    ),\n",
    "    yaxis=dict(\n",
    "        title='Temperature',\n",
    "        titlefont=dict(\n",
    "            size=18\n",
    "        )\n",
    "    )\n",
    ")\n",
    "fig = dict(data=data, layout=layout)\n",
    "py.iplot(fig, title='Temperature Time Series plot for Five Main Countries')"
   ]
  },
  {
   "cell_type": "markdown",
   "metadata": {},
   "source": [
    "- Average Temperature Growth Rate plot based on majors cities"
   ]
  },
  {
   "cell_type": "code",
   "execution_count": 4,
   "metadata": {
    "collapsed": false
   },
   "outputs": [],
   "source": [
    "#Data Cleaning\n",
    "#calculate growth rate for major city\n",
    "temp_majorcity_growthrate = {}\n",
    "temp_majorcity_begin_end = {}\n",
    "for i in global_city_temp.City.unique().tolist():\n",
    "    temp_city_i = global_city_temp[global_city_temp['City'] == i]\n",
    "    temp_city_i = temp_city_i[temp_city_i.index.year >= 1840]\n",
    "    temp_city_i_year = temp_city_i.groupby(temp_city_i.index.year)['AverageTemperature'].mean()\n",
    "    #growrate \n",
    "    temp_city_i_year_list = temp_city_i_year.tolist()\n",
    "    temp_city_i_year_gr = (temp_city_i_year_list[len(temp_city_i_year_list) - 1] - temp_city_i_year_list[0])/temp_city_i_year_list[0]\n",
    "    #write dict\n",
    "    temp_majorcity_growthrate[i] = float(\"{0:.4f}\".format(temp_city_i_year_gr))\n",
    "    temp_majorcity_begin_end[i] = [float(\"{0:.2f}\".format(temp_city_i_year_list[0])),\n",
    "                                   float(\"{0:.2f}\".format(temp_city_i_year_list[len(temp_city_i_year_list) - 1]))]\n",
    "                                   \n",
    "\n",
    "#sort temperature growth rate and get top ten major city\n",
    "top_10city_gr_temp = sorted(temp_majorcity_growthrate, key=temp_majorcity_growthrate.get, reverse=True)[:10]  "
   ]
  },
  {
   "cell_type": "code",
   "execution_count": 6,
   "metadata": {
    "collapsed": false
   },
   "outputs": [
    {
     "data": {
      "text/html": [
       "<iframe id=\"igraph\" scrolling=\"no\" style=\"border:none;\" seamless=\"seamless\" src=\"https://plot.ly/~XuechunSun/50.embed\" height=\"525px\" width=\"100%\"></iframe>"
      ],
      "text/plain": [
       "<plotly.tools.PlotlyDisplay object>"
      ]
     },
     "execution_count": 6,
     "metadata": {},
     "output_type": "execute_result"
    }
   ],
   "source": [
    "temp_list_top10_begin = [temp_majorcity_begin_end[i][0] for i in top_10city_gr_temp]\n",
    "temp_list_top10_end = [temp_majorcity_begin_end[i][1] for i in top_10city_gr_temp]\n",
    "\n",
    "trace0 = go.Bar(\n",
    "    x= top_10city_gr_temp,\n",
    "    y= temp_list_top10_begin,\n",
    "    name='Begin Temp(1840)',\n",
    "    marker=dict(\n",
    "        color='rgb(49,130,189)'\n",
    "    )\n",
    ")\n",
    "trace1 = go.Bar(\n",
    "    x= top_10city_gr_temp,\n",
    "    y= temp_list_top10_end,\n",
    "    name='End Temp(2012)',\n",
    "    marker=dict(\n",
    "        color='rgb(204,204,204)',\n",
    "    )\n",
    ")\n",
    "\n",
    "data = [trace0, trace1]\n",
    "layout = go.Layout(\n",
    "    barmode='group',\n",
    "    title='Temp of Top Ten Major Citys in Temperature Growth Rate From 1840 to 2012',\n",
    "    legend=dict(\n",
    "        y=0.5,\n",
    "        traceorder='reversed',\n",
    "        font=dict(\n",
    "            size=16\n",
    "        )\n",
    "    ),\n",
    "    xaxis=dict(\n",
    "        title='Major City',\n",
    "        titlefont=dict(\n",
    "            size=18\n",
    "        ),\n",
    "        tickangle=-45\n",
    "    ),\n",
    "    yaxis=dict(\n",
    "        title='Temperature',\n",
    "        titlefont=dict(\n",
    "            size=18\n",
    "        )\n",
    "    )\n",
    ")\n",
    "\n",
    "fig = go.Figure(data=data, layout=layout)\n",
    "py.iplot(fig, filename='Temp of Top Ten Major Citys in Temperature Growth Rate From 1840 to 2012')"
   ]
  },
  {
   "cell_type": "code",
   "execution_count": 7,
   "metadata": {
    "collapsed": false
   },
   "outputs": [
    {
     "data": {
      "text/html": [
       "<iframe id=\"igraph\" scrolling=\"no\" style=\"border:none;\" seamless=\"seamless\" src=\"https://plot.ly/~XuechunSun/52.embed\" height=\"525px\" width=\"100%\"></iframe>"
      ],
      "text/plain": [
       "<plotly.tools.PlotlyDisplay object>"
      ]
     },
     "execution_count": 7,
     "metadata": {},
     "output_type": "execute_result"
    }
   ],
   "source": [
    "temp_list_growth_rate = [temp_majorcity_growthrate[i] for i in top_10city_gr_temp]\n",
    "\n",
    "data = [go.Bar(\n",
    "            x= temp_list_growth_rate,\n",
    "            y= top_10city_gr_temp,\n",
    "            orientation = 'h',\n",
    "            marker=dict(color='rgb(220,100,100)'\n",
    "    )\n",
    ")]\n",
    "layout = go.Layout(\n",
    "    title='Top Ten Major Citys in Temperature Growth Rate From 1840 to 2012',\n",
    "    legend=dict(\n",
    "        y=0.5,\n",
    "        traceorder='reversed',\n",
    "        font=dict(\n",
    "            size=16\n",
    "        )\n",
    "    ),\n",
    "    xaxis=dict(\n",
    "        title='Growth Rate',\n",
    "        titlefont=dict(\n",
    "            size=18\n",
    "        ),\n",
    "        tickangle=-45\n",
    "    ),\n",
    "    yaxis=dict(\n",
    "        title='Major City',\n",
    "        titlefont=dict(\n",
    "            size=18\n",
    "        )\n",
    "    )\n",
    ")\n",
    "fig = go.Figure(data=data, layout=layout)\n",
    "py.iplot(fig, filename='Top Ten Major Citys in Temperature Growth Rate From 1840 to 2012')"
   ]
  },
  {
   "cell_type": "markdown",
   "metadata": {},
   "source": [
    "# Part 3\n",
    "## Principal Component Analysis (PCA) \n",
    "- Apply PC Analysis to major cities in order to get dimension reduction. Generally speaking, in the PCA plot, if two points are close, then they may have similar features.\n",
    "- The dataset generated has six variables: City Name(character), growth rate(num), temp difference between 1850 to 1900(num), temp difference between 1900 to 1950(num), temp difference between 1950 to 2000(num), temp difference between 2000 to 2010(num). We use the last five variable to apply PCA model."
   ]
  },
  {
   "cell_type": "code",
   "execution_count": 8,
   "metadata": {
    "collapsed": false
   },
   "outputs": [],
   "source": [
    "#data cleaning\n",
    "pca_list = []\n",
    "for i in range(len(global_city_temp.City.unique())):\n",
    "    city_name = global_city_temp.City.unique()[i]\n",
    "    temp_city_i = global_city_temp[global_city_temp['City'] == city_name]\n",
    "    \n",
    "    temp_city_i = temp_city_i[temp_city_i.index.year >= 1850]\n",
    "    temp_city_i_1850_1900 = temp_city_i[temp_city_i.index.year < 1900]\n",
    "    temp_city_i_1850_1900 = temp_city_i_1850_1900.groupby(temp_city_i_1850_1900.index.year)['AverageTemperature'].mean()\n",
    "    temp_city_i_1850_1900_list = temp_city_i_1850_1900.tolist()\n",
    "    temp_city_i_1850_1900_diff = temp_city_i_1850_1900_list[len(temp_city_i_1850_1900_list) - 1] - temp_city_i_1850_1900_list[0]\n",
    "    \n",
    "    temp_city_i = temp_city_i[temp_city_i.index.year >= 1900 ]\n",
    "    temp_city_i_1900_1950 = temp_city_i[temp_city_i.index.year < 1950]\n",
    "    temp_city_i_1900_1950 = temp_city_i_1900_1950.groupby(temp_city_i_1900_1950.index.year)['AverageTemperature'].mean()\n",
    "    temp_city_i_1900_1950_list = temp_city_i_1900_1950.tolist()\n",
    "    temp_city_i_1900_1950_diff = temp_city_i_1900_1950_list[len(temp_city_i_1900_1950_list) - 1] - temp_city_i_1900_1950_list[0]\n",
    "    \n",
    "    temp_city_i = temp_city_i[temp_city_i.index.year >= 1950]\n",
    "    temp_city_i_1950_2000 = temp_city_i[temp_city_i.index.year < 2000]\n",
    "    temp_city_i_1950_2000 = temp_city_i_1950_2000.groupby(temp_city_i_1950_2000.index.year)['AverageTemperature'].mean()\n",
    "    temp_city_i_1950_2000_list = temp_city_i_1950_2000.tolist()\n",
    "    temp_city_i_1950_2000_diff = temp_city_i_1950_2000_list[len(temp_city_i_1950_2000_list) - 1] - temp_city_i_1950_2000_list[0]\n",
    "    \n",
    "    temp_city_i = temp_city_i[temp_city_i.index.year >= 2000]\n",
    "    temp_city_i_2000_2010 = temp_city_i[temp_city_i.index.year < 2010]\n",
    "    temp_city_i_2000_2010 = temp_city_i_2000_2010.groupby(temp_city_i_2000_2010.index.year)['AverageTemperature'].mean()\n",
    "    temp_city_i_2000_2010_list = temp_city_i_2000_2010.tolist()\n",
    "    temp_city_i_2000_2010_diff = temp_city_i_2000_2010_list[len(temp_city_i_2000_2010_list) - 1] - temp_city_i_2000_2010_list[0]\n",
    "    \n",
    "\n",
    "    pca_city = [global_city_temp.City.unique()[i], temp_majorcity_growthrate[global_city_temp.City.unique()[i]],\n",
    "                temp_city_i_1850_1900_diff, temp_city_i_1900_1950_diff,temp_city_i_1950_2000_diff,\n",
    "                temp_city_i_2000_2010_diff]\n",
    "    pca_list.append(pca_city)\n",
    "\n",
    "pca_matrix = []\n",
    "for i in range(len(pca_list)):\n",
    "    for j in range(len(pca_list[i])):\n",
    "        pca_matrix.append(pca_list[i][j])\n",
    "        \n",
    "pca_matrix = np.array(pca_matrix)\n",
    "shape = (100, 6)\n",
    "pca_matrix = pca_matrix.reshape(shape)"
   ]
  },
  {
   "cell_type": "code",
   "execution_count": 9,
   "metadata": {
    "collapsed": false
   },
   "outputs": [],
   "source": [
    "from sklearn.decomposition import PCA as sklearnPCA\n",
    "\n",
    "#run PCA model to dataset\n",
    "city_pca = sklearnPCA(n_components=2)\n",
    "city_pca_transf = city_pca.fit_transform(pca_matrix[0:100,1:6])"
   ]
  },
  {
   "cell_type": "code",
   "execution_count": 10,
   "metadata": {
    "collapsed": false
   },
   "outputs": [
    {
     "data": {
      "text/html": [
       "<iframe id=\"igraph\" scrolling=\"no\" style=\"border:none;\" seamless=\"seamless\" src=\"https://plot.ly/~XuechunSun/42.embed\" height=\"525px\" width=\"100%\"></iframe>"
      ],
      "text/plain": [
       "<plotly.tools.PlotlyDisplay object>"
      ]
     },
     "execution_count": 10,
     "metadata": {},
     "output_type": "execute_result"
    }
   ],
   "source": [
    "#find top 10 cities\n",
    "top10_index = []\n",
    "for i in range(len(top_10city_gr_temp)):\n",
    "    top10_index.append(np.where(pca_matrix[:,0]==top_10city_gr_temp[i]))\n",
    "\n",
    "#[(array([65]),), (array([80]),), (array([34]),), (array([82]),), (array([48]),), \n",
    "#(array([19]),), (array([64]),), (array([92]),), (array([86]),), (array([5]),)]\n",
    "\n",
    "top10_index = [65,80,34,82,48,19,64,92,86,5]\n",
    "\n",
    "#draw PCA plot based on PC\n",
    "trace1 = go.Scatter(\n",
    "    x = city_pca_transf[:,0],\n",
    "    y = city_pca_transf[:,1],\n",
    "    mode='markers',\n",
    "    name='Major City',\n",
    "    text= pca_matrix[0:100,0],\n",
    "    textposition='top'\n",
    ")\n",
    "trace2 = go.Scatter(\n",
    "    x = city_pca_transf[top10_index,0],\n",
    "    y = city_pca_transf[top10_index,1],\n",
    "    mode='markers',\n",
    "    name='Top 10 Cities',\n",
    "    text= top_10city_gr_temp,\n",
    "    textposition='top',\n",
    "    marker = dict(\n",
    "        size = 10,\n",
    "        color = 'red',\n",
    "    )\n",
    ")\n",
    "data = [trace1,trace2]\n",
    "layout = dict(title = 'PCA Plots of 100 major cities',\n",
    "    xaxis=dict(\n",
    "        title='1st Princpal Component',\n",
    "        titlefont=dict(\n",
    "            size=18\n",
    "        )\n",
    "    ),\n",
    "    yaxis=dict(\n",
    "        title='2st Princpal Component',\n",
    "        titlefont=dict(\n",
    "            size=18\n",
    "        )\n",
    "    )\n",
    "    )\n",
    "\n",
    "fig = dict(data=data, layout=layout)\n",
    "py.iplot(fig, filename='PCA Plots of 100 major cities')"
   ]
  },
  {
   "cell_type": "markdown",
   "metadata": {},
   "source": [
    "Red points stand for the cities which have top ten largest temp growth rate. Each point in the plot means a city."
   ]
  },
  {
   "cell_type": "markdown",
   "metadata": {},
   "source": [
    "# Part 4\n",
    "## K-means Clustering"
   ]
  },
  {
   "cell_type": "code",
   "execution_count": 11,
   "metadata": {
    "collapsed": false
   },
   "outputs": [
    {
     "data": {
      "text/plain": [
       "KMeans(copy_x=True, init='k-means++', max_iter=300, n_clusters=3, n_init=10,\n",
       "    n_jobs=1, precompute_distances='auto', random_state=None, tol=0.0001,\n",
       "    verbose=0)"
      ]
     },
     "execution_count": 11,
     "metadata": {},
     "output_type": "execute_result"
    }
   ],
   "source": [
    "from sklearn import cluster\n",
    "\n",
    "#use K means model to the dataset\n",
    "k_means = cluster.KMeans(n_clusters=3)\n",
    "k_means.fit(pca_matrix[0:100,1:6]) "
   ]
  },
  {
   "cell_type": "code",
   "execution_count": 12,
   "metadata": {
    "collapsed": false
   },
   "outputs": [],
   "source": [
    "# set up labels of kmeans\n",
    "k_means_labels = k_means.labels_.tolist()\n",
    "k_means_labels[k_means_labels[:] == 0]\n",
    "\n",
    "k_mean_data = np.concatenate((pca_matrix, k_means.labels_.reshape(100,1)), 1)\n",
    "k_mean_data.shape\n",
    "\n",
    "cluster0 = k_mean_data[k_mean_data[:,6] == '0',:]\n",
    "cluster1 = k_mean_data[k_mean_data[:,6] == '1',:]\n",
    "cluster2 = k_mean_data[k_mean_data[:,6] == '2']\n",
    "\n",
    "label = np.array(range(100))\n",
    "cluster0_label = label[k_mean_data[:,6] == '0'].tolist()\n",
    "cluster1_label = label[k_mean_data[:,6] == '1'].tolist()\n",
    "cluster2_label = label[k_mean_data[:,6] == '2'].tolist()\n"
   ]
  },
  {
   "cell_type": "code",
   "execution_count": 13,
   "metadata": {
    "collapsed": false
   },
   "outputs": [
    {
     "data": {
      "text/html": [
       "<iframe id=\"igraph\" scrolling=\"no\" style=\"border:none;\" seamless=\"seamless\" src=\"https://plot.ly/~XuechunSun/46.embed\" height=\"525px\" width=\"100%\"></iframe>"
      ],
      "text/plain": [
       "<plotly.tools.PlotlyDisplay object>"
      ]
     },
     "execution_count": 13,
     "metadata": {},
     "output_type": "execute_result"
    }
   ],
   "source": [
    "#draw cluster plot based on PCA plot\n",
    "\n",
    "trace0 = go.Scatter(\n",
    "    x = city_pca_transf[cluster0_label,0],\n",
    "    y = city_pca_transf[cluster0_label,1],\n",
    "    mode='markers',\n",
    "    name='Cluster 0',\n",
    "    text= pca_matrix[cluster0_label,0],\n",
    "    textposition='top',\n",
    "    marker = dict(\n",
    "        color = 'blue',\n",
    "    )\n",
    ")\n",
    "trace1 = go.Scatter(\n",
    "    x = city_pca_transf[cluster1_label,0],\n",
    "    y = city_pca_transf[cluster1_label,1],\n",
    "    mode='markers',\n",
    "    name='Cluster 1',\n",
    "    text= pca_matrix[cluster1_label,0],\n",
    "    textposition='top',\n",
    "    marker = dict(\n",
    "        color = 'red',\n",
    "    )\n",
    ")\n",
    "trace2 = go.Scatter(\n",
    "    x = city_pca_transf[cluster2_label,0],\n",
    "    y = city_pca_transf[cluster2_label,1],\n",
    "    mode='markers',\n",
    "    name='Cluster 2',\n",
    "    text= pca_matrix[cluster2_label,0],\n",
    "    textposition='top',\n",
    "    marker = dict(\n",
    "        color = 'green',\n",
    "    )\n",
    ")\n",
    "\n",
    "data = [trace0,trace1,trace2]\n",
    "layout = dict(title = 'Cluster Groups of 100 major cities',\n",
    "    xaxis=dict(\n",
    "        title='1st Princpal Component',\n",
    "        titlefont=dict(\n",
    "            size=18\n",
    "        )\n",
    "    ),\n",
    "    yaxis=dict(\n",
    "        title='2st Princpal Component',\n",
    "        titlefont=dict(\n",
    "            size=18\n",
    "        )\n",
    "    )\n",
    "             )\n",
    "\n",
    "fig = dict(data=data, layout=layout)\n",
    "py.iplot(fig, filename='Cluster Groups of 100 major cities')"
   ]
  },
  {
   "cell_type": "markdown",
   "metadata": {},
   "source": [
    "- Form the Cluster groups plot above, we can see that cities in the same group are very close to each other in the PCA plot. \n",
    "- Cities in the same cluster group have similar features in growth rate, temp increases in the certain time gaps. The reasons behind it may vary. For example, maybe they are in the similar latitude, and some of them are all large and developing city in certain years that we interested. Further, population and climate type may also be the reasons that influence temperature in cities."
   ]
  }
 ],
 "metadata": {
  "anaconda-cloud": {},
  "kernelspec": {
   "display_name": "Python [Root]",
   "language": "python",
   "name": "Python [Root]"
  },
  "language_info": {
   "codemirror_mode": {
    "name": "ipython",
    "version": 3
   },
   "file_extension": ".py",
   "mimetype": "text/x-python",
   "name": "python",
   "nbconvert_exporter": "python",
   "pygments_lexer": "ipython3",
   "version": "3.5.2"
  }
 },
 "nbformat": 4,
 "nbformat_minor": 0
}
